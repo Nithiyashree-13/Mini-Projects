{
 "cells": [
  {
   "cell_type": "code",
   "execution_count": 1,
   "id": "2669de9f",
   "metadata": {},
   "outputs": [
    {
     "ename": "ModuleNotFoundError",
     "evalue": "No module named 'cv2'",
     "output_type": "error",
     "traceback": [
      "\u001b[1;31m---------------------------------------------------------------------------\u001b[0m",
      "\u001b[1;31mModuleNotFoundError\u001b[0m                       Traceback (most recent call last)",
      "Cell \u001b[1;32mIn[1], line 1\u001b[0m\n\u001b[1;32m----> 1\u001b[0m \u001b[38;5;28;01mimport\u001b[39;00m \u001b[38;5;21;01mcv2\u001b[39;00m\n\u001b[0;32m      2\u001b[0m \u001b[38;5;28;01mimport\u001b[39;00m \u001b[38;5;21;01mdlib\u001b[39;00m\n\u001b[0;32m      3\u001b[0m \u001b[38;5;28;01mimport\u001b[39;00m \u001b[38;5;21;01mnumpy\u001b[39;00m \u001b[38;5;28;01mas\u001b[39;00m \u001b[38;5;21;01mnp\u001b[39;00m\n",
      "\u001b[1;31mModuleNotFoundError\u001b[0m: No module named 'cv2'"
     ]
    }
   ],
   "source": [
    "import cv2\n",
    "import dlib\n",
    "import numpy as np\n",
    "from keras.models import load_model\n",
    "\n",
    "# Load pre-trained models\n",
    "face_detector = dlib.get_frontal_face_detector()\n",
    "landmark_detector = dlib.shape_predictor(\"DATA/shape_predictor_68_face_landmarks.dat\")\n",
    "emotion_classifier = load_model(\"DATA/EmotionDetectionModel.h5\")\n",
    "\n",
    "# Define emotion labels\n",
    "EMOTIONS = [\"Angry\", \"Disgust\", \"Fear\", \"Happy\", \"Neutral\", \"Sad\", \"Surprise\"]\n",
    "\n",
    "# Initialize video capture\n",
    "cap = cv2.VideoCapture(0)\n",
    "\n",
    "while True:\n",
    "    # Read a frame from the video stream\n",
    "    ret, frame = cap.read()\n",
    "\n",
    "    # Detect faces in the frame\n",
    "    faces = face_detector(frame, 0)\n",
    "\n",
    "    # Iterate over detected faces\n",
    "    for face in faces:\n",
    "        # Align face using facial landmarks\n",
    "        landmarks = landmark_detector(frame, face)\n",
    "        aligned_face = np.array([(landmarks.part(n).x, landmarks.part(n).y) for n in range(0, 68)])\n",
    "\n",
    "        # Preprocess aligned face for emotion classification\n",
    "        grayscale_face = cv2.cvtColor(aligned_face, cv2.COLOR_BGR2GRAY)\n",
    "        resized_face = cv2.resize(grayscale_face, (48, 48))\n",
    "        reshaped_face = resized_face.reshape(1, 48, 48, 1)\n",
    "\n",
    "        # Predict emotions for aligned face\n",
    "        predictions = emotion_classifier.predict(reshaped_face)\n",
    "        emotion_label = EMOTIONS[np.argmax(predictions)]\n",
    "\n",
    "        # Draw bounding box and emotion label on face in video stream\n",
    "        (x, y, w, h) = face\n",
    "        cv2.rectangle(frame, (x, y), (x+w, y+h), (0, 255, 0), 2)\n",
    "        cv2.putText(frame, emotion_label, (x, y), cv2.FONT_HERSHEY_SIMPLEX, 1, (0, 255, 0), 2)\n",
    "\n",
    "    # Display the resulting video stream\n",
    "    cv2.imshow('Emotion Detection', frame)\n",
    "\n",
    "    # Exit if 'q' is pressed\n",
    "    if cv2.waitKey(1) & 0xFF == ord('q'):\n",
    "        break\n",
    "\n",
    "# Release resources\n",
    "cap.release()\n",
    "cv2.destroyAllWindows()\n"
   ]
  },
  {
   "cell_type": "code",
   "execution_count": null,
   "id": "2a33d39b",
   "metadata": {},
   "outputs": [],
   "source": []
  }
 ],
 "metadata": {
  "kernelspec": {
   "display_name": "Python 3 (ipykernel)",
   "language": "python",
   "name": "python3"
  },
  "language_info": {
   "codemirror_mode": {
    "name": "ipython",
    "version": 3
   },
   "file_extension": ".py",
   "mimetype": "text/x-python",
   "name": "python",
   "nbconvert_exporter": "python",
   "pygments_lexer": "ipython3",
   "version": "3.10.9"
  }
 },
 "nbformat": 4,
 "nbformat_minor": 5
}
